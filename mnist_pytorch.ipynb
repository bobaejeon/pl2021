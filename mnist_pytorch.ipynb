{
  "nbformat": 4,
  "nbformat_minor": 0,
  "metadata": {
    "colab": {
      "name": "mnist_pytorch.ipynb",
      "provenance": []
    },
    "kernelspec": {
      "name": "python3",
      "display_name": "Python 3"
    },
    "language_info": {
      "name": "python"
    }
  },
  "cells": [
    {
      "cell_type": "code",
      "metadata": {
        "id": "6DfO99FeVOQO"
      },
      "source": [
        "import torch\n",
        "import torchvision\n",
        "import matplotlib.pyplot as plt"
      ],
      "execution_count": null,
      "outputs": []
    },
    {
      "cell_type": "code",
      "metadata": {
        "id": "Bsg9rIsaaxtr"
      },
      "source": [
        "train_dataset = torchvision.datasets.MNIST(root='./data/',\n",
        "                                           train=True, \n",
        "                                           transform=torchvision.transforms.ToTensor(),\n",
        "                                           download=True)\n",
        "test_dataset = torchvision.datasets.MNIST(root='./data/',\n",
        "                                          train=False, \n",
        "                                          transform=torchvision.transforms.ToTensor(),\n",
        "                                          download=True)\n",
        "\n",
        "train_dataloader = torch.utils.data.DataLoader(train_dataset, batch_size=32)\n",
        "test_dataloader = torch.utils.data.DataLoader(test_dataset, batch_size=32)"
      ],
      "execution_count": null,
      "outputs": []
    },
    {
      "cell_type": "code",
      "metadata": {
        "colab": {
          "base_uri": "https://localhost:8080/",
          "height": 284
        },
        "id": "0G0vijUvcgUt",
        "outputId": "720e0fe7-038d-4125-d4d2-a7a674775f00"
      },
      "source": [
        "image, label = train_dataset[0]\n",
        "\n",
        "plt.imshow(image.squeeze())\n",
        "print(label)"
      ],
      "execution_count": null,
      "outputs": [
        {
          "output_type": "stream",
          "text": [
            "5\n"
          ],
          "name": "stdout"
        },
        {
          "output_type": "display_data",
          "data": {
            "image/png": "[encoded data removed]",
            "text/plain": [
              "<Figure size 432x288 with 1 Axes>"
            ]
          },
          "metadata": {
            "tags": [],
            "needs_background": "light"
          }
        }
      ]
    },
    {
      "cell_type": "code",
      "metadata": {
        "colab": {
          "base_uri": "https://localhost:8080/"
        },
        "id": "3GoSotc4Glsc",
        "outputId": "cfabfda8-ea8f-4a00-fe97-ba04a57672c6"
      },
      "source": [
        "device = 'cuda' if torch.cuda.is_available() else 'cpu'\n",
        "print('Using {} device'.format(device))"
      ],
      "execution_count": null,
      "outputs": [
        {
          "output_type": "stream",
          "text": [
            "Using cpu device\n"
          ],
          "name": "stdout"
        }
      ]
    },
    {
      "cell_type": "code",
      "metadata": {
        "colab": {
          "base_uri": "https://localhost:8080/"
        },
        "id": "rh8vHE_uzdwi",
        "outputId": "b6ad02e1-30ec-412d-b9b7-aac6a0ac1c2a"
      },
      "source": [
        "class PyNet(torch.nn.Module):\n",
        "  def __init__(self):\n",
        "        super().__init__()\n",
        "        self.flatten = torch.nn.Flatten()\n",
        "        self.cnn_model = torch.nn.Sequential( \n",
        "            torch.nn.Conv2d(in_channels=1, out_channels=32, kernel_size=(5, 5)),\n",
        "            torch.nn.ReLU(),\n",
        "            torch.nn.MaxPool2d(kernel_size=(2, 2)),\n",
        "            torch.nn.Conv2d(in_channels=32, out_channels=64, kernel_size=(5, 5)),\n",
        "            torch.nn.ReLU(),\n",
        "            torch.nn.MaxPool2d(kernel_size=(2, 2)),\n",
        "            torch.nn.ReLU()            \n",
        "        )\n",
        "        self.fc_model = torch.nn.Sequential(\n",
        "            torch.nn.Linear(in_features=4*4*64, out_features=64),\n",
        "            torch.nn.ReLU()\n",
        "        )\n",
        "        self.classifier = torch.nn.Linear(64, 10)\n",
        "\n",
        "  def forward(self, x):\n",
        "        x = self.cnn_model(x)\n",
        "        x = self.flatten(x)\n",
        "        x =  self.fc_model(x)\n",
        "        out = self.classifier(x)\n",
        "        return out\n",
        "\n",
        "modelpy = PyNet().to(device)\n",
        "loss_fn = torch.nn.CrossEntropyLoss()\n",
        "optimizer = torch.optim.Adam(modelpy.parameters())\n",
        "\n",
        "modelpy"
      ],
      "execution_count": null,
      "outputs": [
        {
          "output_type": "execute_result",
          "data": {
            "text/plain": [
              "PyNet(\n",
              "  (flatten): Flatten(start_dim=1, end_dim=-1)\n",
              "  (cnn_model): Sequential(\n",
              "    (0): Conv2d(1, 32, kernel_size=(5, 5), stride=(1, 1))\n",
              "    (1): ReLU()\n",
              "    (2): MaxPool2d(kernel_size=(2, 2), stride=(2, 2), padding=0, dilation=1, ceil_mode=False)\n",
              "    (3): Conv2d(32, 64, kernel_size=(5, 5), stride=(1, 1))\n",
              "    (4): ReLU()\n",
              "    (5): MaxPool2d(kernel_size=(2, 2), stride=(2, 2), padding=0, dilation=1, ceil_mode=False)\n",
              "    (6): ReLU()\n",
              "  )\n",
              "  (fc_model): Sequential(\n",
              "    (0): Linear(in_features=1024, out_features=64, bias=True)\n",
              "    (1): ReLU()\n",
              "  )\n",
              "  (classifier): Linear(in_features=64, out_features=10, bias=True)\n",
              ")"
            ]
          },
          "metadata": {
            "tags": []
          },
          "execution_count": 6
        }
      ]
    },
    {
      "cell_type": "code",
      "metadata": {
        "id": "u854M6OXKqUY"
      },
      "source": [
        "def train(dataloader, model, loss_fn, optimizer, epoch):\n",
        "    model.train()\n",
        "    size = len(dataloader.dataset)\n",
        "    for e in range(epoch):\n",
        "      loss, test_loss, correct = 0, 0, 0\n",
        "      for X, y in dataloader:\n",
        "        # Compute prediction and loss\n",
        "        pred = model(X)\n",
        "        loss = loss_fn(pred, y)\n",
        "\n",
        "        # Backpropagation\n",
        "        optimizer.zero_grad()\n",
        "        loss.backward()\n",
        "        optimizer.step()\n",
        "\n",
        "        test_loss = loss.item()\n",
        "        correct += (pred.argmax(1) == y).type(torch.float).sum().item()\n",
        "\n",
        "      print(f\"Epoch: {e+1}, loss: {test_loss:>5f}, accuracy: {(correct / size):>5f}\")\n",
        "              \n",
        "train(train_dataloader, modelpy, loss_fn, optimizer, epoch=5)"
      ],
      "execution_count": null,
      "outputs": []
    },
    {
      "cell_type": "code",
      "metadata": {
        "colab": {
          "base_uri": "https://localhost:8080/"
        },
        "id": "LRjPtgEDThPE",
        "outputId": "fd527163-f7d3-46dd-f01b-84c39c0e2661"
      },
      "source": [
        "modelpy.eval()\n",
        "size = len(test_dataloader.dataset)\n",
        "test_loss, correct = 0, 0\n",
        "\n",
        "with torch.no_grad():\n",
        "  for X, y in test_dataloader:\n",
        "    pred = modelpy(X)\n",
        "    correct += (pred.argmax(1) == y).type(torch.float).sum().item()\n",
        "\n",
        "print(f\"Test Result- accuracy: {(correct / size):>5f}\")"
      ],
      "execution_count": null,
      "outputs": [
        {
          "output_type": "stream",
          "text": [
            "Test Result- accuracy: 0.989500\n"
          ],
          "name": "stdout"
        }
      ]
    }
  ]
}